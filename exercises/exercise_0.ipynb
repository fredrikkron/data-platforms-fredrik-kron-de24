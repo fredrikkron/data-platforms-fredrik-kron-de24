{
 "cells": [
  {
   "cell_type": "markdown",
   "metadata": {},
   "source": [
    "## 0.0"
   ]
  },
  {
   "cell_type": "code",
   "execution_count": 1,
   "metadata": {},
   "outputs": [
    {
     "name": "stdout",
     "output_type": "stream",
     "text": [
      "Source: /Users/aigineer/Documents/data_platform_course/data/file.csv\n",
      "Destination: /Users/aigineer/Documents/data_platform_course/cleaned_data/file.csv\n"
     ]
    }
   ],
   "source": [
    "# 0.0\n",
    "\n",
    "source_file_path = input(\"Enter the source file path: \")\n",
    "destination_file_path = input(\"Enter the destination file path: \")\n",
    "\n",
    "print(f\"Source: {source_file_path}\")\n",
    "print(f\"Destination: {destination_file_path}\")"
   ]
  },
  {
   "cell_type": "markdown",
   "metadata": {},
   "source": [
    "## 0.1"
   ]
  },
  {
   "cell_type": "markdown",
   "metadata": {},
   "source": [
    "### a)"
   ]
  },
  {
   "cell_type": "code",
   "execution_count": 3,
   "metadata": {},
   "outputs": [
    {
     "data": {
      "text/plain": [
       "{'id': 101, 'name': 'Erika', 'is_active': True, 'age': 45}"
      ]
     },
     "execution_count": 3,
     "metadata": {},
     "output_type": "execute_result"
    }
   ],
   "source": [
    "record = {\n",
    "    \"id\": 101,\n",
    "    \"name\": \"Erika\",\n",
    "    \"is_active\": True,\n",
    "    \"age\": 45\n",
    "}\n",
    "\n",
    "record"
   ]
  },
  {
   "cell_type": "markdown",
   "metadata": {},
   "source": [
    "### b)"
   ]
  },
  {
   "cell_type": "code",
   "execution_count": 8,
   "metadata": {},
   "outputs": [
    {
     "name": "stdout",
     "output_type": "stream",
     "text": [
      "True\n"
     ]
    }
   ],
   "source": [
    "def validation(record):\n",
    "    if (\n",
    "        isinstance(record.get(\"id\"), int)\n",
    "        and isinstance(record.get(\"name\"), str)\n",
    "        and isinstance(record.get(\"is_active\"), bool)\n",
    "        and isinstance(record.get(\"age\"), int)\n",
    "    ):\n",
    "        return True\n",
    "    return False\n",
    "\n",
    "validation_result = validation(record)\n",
    "print(validation_result)"
   ]
  },
  {
   "cell_type": "markdown",
   "metadata": {},
   "source": [
    "### c)"
   ]
  },
  {
   "cell_type": "code",
   "execution_count": 10,
   "metadata": {},
   "outputs": [
    {
     "data": {
      "text/plain": [
       "[{'id': 102, 'name': 'Marcus', 'is_active': True, 'age': 34},\n",
       " {'id': 103, 'name': 'David', 'is_active': False, 'age': 29},\n",
       " {'id': 104, 'name': 'Anna', 'is_active': True, 'age': 41.5},\n",
       " {'id': 105, 'name': 'Ingrid', 'is_active': 'NOPE', 'age': 8}]"
      ]
     },
     "execution_count": 10,
     "metadata": {},
     "output_type": "execute_result"
    }
   ],
   "source": [
    "records = [\n",
    "    {\"id\": 102, \"name\": \"Marcus\", \"is_active\": True, \"age\": 34},\n",
    "    {\"id\": 103, \"name\": \"David\", \"is_active\": False, \"age\": 29}, \n",
    "    {\"id\": 104, \"name\": \"Anna\", \"is_active\": True, \"age\": 41.5},\n",
    "    {\"id\": 105, \"name\": \"Ingrid\", \"is_active\": \"NOPE\", \"age\": 8}\n",
    "    ]\n",
    "\n",
    "records"
   ]
  },
  {
   "cell_type": "markdown",
   "metadata": {},
   "source": [
    "### d)"
   ]
  },
  {
   "cell_type": "code",
   "execution_count": 16,
   "metadata": {},
   "outputs": [],
   "source": [
    "def validation(records):\n",
    "    result = []\n",
    "    for record in records:\n",
    "        valid = (\n",
    "            isinstance(record.get(\"id\"), int)\n",
    "            and isinstance(record.get(\"name\"), str)\n",
    "            and isinstance(record.get(\"is_active\"), bool)\n",
    "            and isinstance(record.get(\"age\"), int)\n",
    "        )\n",
    "        result.append(valid)\n",
    "    return result"
   ]
  },
  {
   "cell_type": "code",
   "execution_count": 17,
   "metadata": {},
   "outputs": [
    {
     "name": "stdout",
     "output_type": "stream",
     "text": [
      "[True, True, False, False]\n"
     ]
    }
   ],
   "source": [
    "result = validation(records)\n",
    "print(result)"
   ]
  }
 ],
 "metadata": {
  "kernelspec": {
   "display_name": ".venv",
   "language": "python",
   "name": "python3"
  },
  "language_info": {
   "codemirror_mode": {
    "name": "ipython",
    "version": 3
   },
   "file_extension": ".py",
   "mimetype": "text/x-python",
   "name": "python",
   "nbconvert_exporter": "python",
   "pygments_lexer": "ipython3",
   "version": "3.12.5"
  }
 },
 "nbformat": 4,
 "nbformat_minor": 2
}
